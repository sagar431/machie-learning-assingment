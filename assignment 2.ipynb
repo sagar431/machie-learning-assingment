{
 "cells": [
  {
   "cell_type": "markdown",
   "metadata": {},
   "source": [
    "## 1.What is the concept of human learning? Please give two examples."
   ]
  },
  {
   "cell_type": "markdown",
   "metadata": {},
   "source": [
    "It is the form of learning which requires higher order mental processes like thinking, reasoning, intelligence, etc. we learn different concepts from childhood. For example, when we see a dog and attach the term 'dog', we learn that the word dog refers to a particular animal."
   ]
  },
  {
   "cell_type": "markdown",
   "metadata": {},
   "source": [
    "## 2.What different forms of human learning are there? Are there any machine learning equivalents?"
   ]
  },
  {
   "cell_type": "markdown",
   "metadata": {},
   "source": [
    "Humans acquire knowledge through experience either directly or shared by others. Machines acquire knowledge through experience shared in the form of past data. We have the terms, Knowledge, Skill, and Memory being used to define intelligence. Just because you have good memory, that does not mean you are intelligent. And just because you are intelligent, it does not mean you should have a good memory. However, there are exceptions to these rules. Humans begin learning by memorizing. After few years, he realizes that mere capability to memorize is not intelligence. Then he practices on transforming the data stored in memory to knowledge and applies them to develop skills to solve problems faced in real life. A person with good memory and more knowledge without the required skills cannot be considered intelligent. Search engines replaces human memory and these days the focus is on acquiring intelligence by making use of data available on the web. In humans, learning speed depends on individuals and in machines, learning speed depends on the algorithm selected and the volume of examples exposed to it."
   ]
  },
  {
   "cell_type": "markdown",
   "metadata": {},
   "source": [
    "## 3. What is machine learning, and how does it work? What are the key responsibilities of machine learning?"
   ]
  },
  {
   "cell_type": "markdown",
   "metadata": {},
   "source": [
    "Machine learning (ML) is a type of artificial intelligence (AI) that allows software applications to become more accurate at predicting outcomes without being explicitly programmed to do so. Machine learning algorithms use historical data as input to predict new output values"
   ]
  },
  {
   "cell_type": "markdown",
   "metadata": {},
   "source": [
    "## 4. Define the terms &quot;penalty&quot; and &quot;reward&quot; in the context of reinforcement learning."
   ]
  },
  {
   "cell_type": "markdown",
   "metadata": {},
   "source": [
    "A reinforcement learning algorithm, which may also be referred to as an agent, learns by interacting with its environment. The agent receives rewards by performing correctly and penalties for performing incorrectly. The agent learns without intervention from a human by maximizing its reward and minimizing its penalty"
   ]
  },
  {
   "cell_type": "markdown",
   "metadata": {},
   "source": [
    "## 5. Explain the term &quot;learning as a search&quot;?"
   ]
  },
  {
   "cell_type": "markdown",
   "metadata": {},
   "source": [
    "A Gentle Introduction to Applied Machine Learning as a Search Problem. ... The application of machine learning is best thought of as search problem for the best mapping of inputs to outputs given the knowledge and resources available to you for a given project."
   ]
  },
  {
   "cell_type": "markdown",
   "metadata": {},
   "source": [
    "## 6. What are the various goals of machine learning? What is the relationship between these and human learning?"
   ]
  },
  {
   "cell_type": "markdown",
   "metadata": {},
   "source": [
    "Its goal and usage is to build new and/or leverage existing algorithms to learn from data, in order to build generalizable models that give accurate predictions, or to find patterns, particularly with new and unseen similar data,Humans acquire knowledge through experience either directly or shared by others. Machines acquire knowledge through experience shared in the form of past data. We have the terms, Knowledge, Skill, and Memory being used to define intelligence"
   ]
  },
  {
   "cell_type": "markdown",
   "metadata": {},
   "source": [
    "## 7. Illustrate the various elements of machine learning using a real-life illustration."
   ]
  },
  {
   "cell_type": "markdown",
   "metadata": {},
   "source": [
    "1.Image recognition\n",
    "Image recognition is a well-known and widespread example of machine learning in the real world. It can identify an object as a digital image, based on the intensity of the pixels in black and white images or colour images.\n",
    " \n",
    "\n",
    "Real-world examples of image recognition:\n",
    "\n",
    "Label an x-ray as cancerous or not\n",
    "Assign a name to a photographed face (aka “tagging” on social media)\n",
    "Recognise handwriting by segmenting a single letter into smaller images\n",
    "Machine learning is also frequently used for facial recognition within an image. Using a database of people, the system can identify commonalities and match them to faces. This is often used in law enforcement.\n",
    "\n",
    " \n",
    "2.Speech recognition\n",
    "\n",
    "Machine learning can translate speech into text. Certain software applications can convert live voice and recorded speech into a text file. The speech can be segmented by intensities on time-frequency bands as well.\n",
    " \n",
    "\n",
    "Real-world examples of speech recognition:\n",
    "\n",
    "Voice search\n",
    "Voice dialling\n",
    "Appliance control\n",
    "Some of the most common uses of speech recognition software are devices like Google Home or Amazon Alexa.\n",
    "\n",
    " \n",
    "3.Medical diagnosis\n",
    "\n",
    "Machine learning can help with the diagnosis of diseases. Many physicians use chatbots with speech recognition capabilities to discern patterns in symptoms.\n",
    " \n",
    "\n",
    "Real-world examples for medical diagnosis:\n",
    "\n",
    "Assisting in formulating a diagnosis or recommends a treatment option\n",
    "Oncology and pathology use machine learning to recognise cancerous tissue \n",
    "Analyse bodily fluids\n",
    "In the case of rare diseases, the joint use of facial recognition software and machine learning helps scan patient photos and identify phenotypes that correlate with rare genetic diseases.\n",
    "\n",
    " \n",
    "4.Statistical arbitrage\n",
    "\n",
    "Arbitrage is an automated trading strategy that’s used in finance to manage a large volume of securities. The strategy uses a trading algorithm to analyse a set of securities using economic variables and correlations.\n",
    " \n",
    "\n",
    "Real-world examples of statistical arbitrage:\n",
    "\n",
    "Algorithmic trading which analyses a market microstructure\n",
    "Analyse large data sets\n",
    "Identify real-time arbitrage opportunities\n",
    "Machine learning optimises the arbitrage strategy to enhance results.\n",
    "\n",
    " \n",
    "5.Predictive analytics\n",
    "\n",
    "Machine learning can classify available data into groups, which are then defined by rules set by analysts. When the classification is complete, the analysts can calculate the probability of a fault.\n",
    " \n",
    "\n",
    "Real-world examples of predictive analytics:\n",
    "\n",
    "Predicting whether a transaction is fraudulent or legitimate\n",
    "Improve prediction systems to calculate the possibility of fault\n",
    "Predictive analytics is one of the most promising examples of machine learning. It's applicable for everything; from product development to real estate pricing.\n",
    "\n",
    " \n",
    "6.Extraction\n",
    "\n",
    "Machine learning can extract structured information from unstructured data. Organisations amass huge volumes of data from customers. A machine learning algorithm automates the process of annotating datasets for predictive analytics tools.\n",
    " \n",
    "\n",
    "Real-world examples of extraction:\n",
    "\n",
    "Generate a model to predict vocal cord disorders\n",
    "Develop methods to prevent, diagnose, and treat the disorders\n",
    "Help physicians diagnose and treat problems quickly\n",
    "Typically, these processes are tedious. But machine learning can track and extract information to obtain billions of data samples. "
   ]
  },
  {
   "cell_type": "markdown",
   "metadata": {},
   "source": [
    "## 8. Provide an example of the abstraction method."
   ]
  },
  {
   "cell_type": "markdown",
   "metadata": {},
   "source": [
    "For example, people do not think of a car as a set of thousands of individual parts. Instead they see it as a well-defined object with its own unique behavior. This abstraction allows people to use a car to drive without knowing the complexity of the parts that form the car"
   ]
  },
  {
   "cell_type": "markdown",
   "metadata": {},
   "source": [
    "## 9. What is the concept of generalization? What function does it play in the machine learning process?"
   ]
  },
  {
   "cell_type": "markdown",
   "metadata": {},
   "source": [
    "Generalization refers to your model's ability to adapt properly to new, previously unseen data, drawn from the same distribution as the one used to create the model,it helps in know whtether our model is overfit or underfit "
   ]
  },
  {
   "cell_type": "markdown",
   "metadata": {},
   "source": [
    "## 10.What is classification, exactly? What are the main distinctions between classification and regression?"
   ]
  },
  {
   "cell_type": "markdown",
   "metadata": {},
   "source": [
    "Classification is the task of predicting a discrete class label. Regression is the task of predicting a continuous quantity\n",
    "The key difference is that the output.\n",
    "\n",
    "For classification is one of a discrete set (e.g. \"what type of fruit is this?\" or \"what medical condition is the person suffering from?\")\n",
    "\n",
    "For regression the output is a continuous number (e.g. \"what's the expected amount the stock market will go up or down today?\" or \"how carcinogenic is this compound?\").\n",
    "\n",
    "A special case of regression is when the output is not just any number, but a number between 0 and 1 where 0 means \"this is not going to happen\" to 1 being \"this will definitely happen\".\n",
    "\n",
    "Some learning algorithms are targeted at one, others at the other. Many of them have the same core algorithm, but with minor modifications -- e.g. decision trees can be easily modified to support regression instead."
   ]
  },
  {
   "cell_type": "markdown",
   "metadata": {},
   "source": [
    "## 11. What is regression, and how does it work? Give an example of a real-world problem that was solved using regression."
   ]
  },
  {
   "cell_type": "markdown",
   "metadata": {},
   "source": [
    "Regression is the task of predicting a continuous quantity The key difference is that the output.A simple linear regression real life example could mean you finding a relationship between the revenue and temperature, with a sample size for revenue as the dependent variable. In case of multiple variable regression, you can find the relationship between temperature, pricing and number of workers to the revenue."
   ]
  },
  {
   "cell_type": "markdown",
   "metadata": {},
   "source": [
    "## 12. Describe the clustering mechanism in detail."
   ]
  },
  {
   "cell_type": "markdown",
   "metadata": {},
   "source": [
    "Clustering is the task of dividing the population or data points into a number of groups such that data points in the same groups are more similar to other data points in the same group than those in other groups. In simple words, the aim is to segregate groups with similar traits and assign them into clusters"
   ]
  },
  {
   "cell_type": "code",
   "execution_count": null,
   "metadata": {},
   "outputs": [],
   "source": []
  }
 ],
 "metadata": {
  "kernelspec": {
   "display_name": "Python 3",
   "language": "python",
   "name": "python3"
  },
  "language_info": {
   "codemirror_mode": {
    "name": "ipython",
    "version": 3
   },
   "file_extension": ".py",
   "mimetype": "text/x-python",
   "name": "python",
   "nbconvert_exporter": "python",
   "pygments_lexer": "ipython3",
   "version": "3.6.5"
  }
 },
 "nbformat": 4,
 "nbformat_minor": 2
}
