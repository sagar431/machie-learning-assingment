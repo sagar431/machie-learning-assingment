{
 "cells": [
  {
   "cell_type": "markdown",
   "id": "15eb829b",
   "metadata": {},
   "source": [
    "1. Using a graph to illustrate slope and intercept, define basic linear regression.\n",
    "2. In a graph, explain the terms rise, run, and slope.\n",
    "3. Use a graph to demonstrate slope, linear positive slope, and linear negative slope, as well as the\n",
    "different conditions that contribute to the slope.\n",
    "\n",
    "4. Use a graph to demonstrate curve linear negative slope and curve linear positive slope.\n",
    "\n",
    "5. Use a graph to show the maximum and low points of curves.\n",
    "\n",
    "6. Use the formulas for a and b to explain ordinary least squares.\n",
    "\n",
    "7. Provide a step-by-step explanation of the OLS algorithm.\n",
    "\n",
    "8. What is the regression&#39;s standard error? To represent the same, make a graph.\n",
    "\n",
    "9. Provide an example of multiple linear regression.\n",
    "\n",
    "10. Describe the regression analysis assumptions and the BLUE principle.\n",
    "\n",
    "11. Describe two major issues with regression analysis.\n",
    "\n",
    "12. How can the linear regression model&#39;s accuracy be improved?\n",
    "\n",
    "13. Using an example, describe the polynomial regression model in detail.\n",
    "\n",
    "14. Provide a detailed explanation of logistic regression.\n",
    "\n",
    "15. What are the logistic regression assumptions?\n",
    "\n",
    "16. Go through the details of maximum likelihood estimation."
   ]
  },
  {
   "cell_type": "markdown",
   "id": "f49da3cd",
   "metadata": {},
   "source": [
    "# Answer "
   ]
  },
  {
   "cell_type": "markdown",
   "id": "7f81b280",
   "metadata": {},
   "source": [
    "1. Basic linear regression is a statistical method used to model the relationship between a dependent variable and one or more independent variables. It is represented by a straight line that best fits the data points on a scatter plot.\n",
    "\n",
    "2. Rise is the vertical distance between two points on a line, while run is the horizontal distance between the same two points. Slope is the ratio of the rise to the run.\n",
    "\n",
    "3. Linear positive slope is represented by a line that has a positive slope, meaning that the dependent variable increases as the independent variable increases. Linear negative slope is represented by a line that has a negative slope, meaning that the dependent variable decreases as the independent variable increases.\n",
    "\n",
    "4. Curve linear positive slope is represented by a curve that has a positive slope, meaning that the dependent variable increases as the independent variable increases. Curve linear negative slope is represented by a curve that has a negative slope, meaning that the dependent variable decreases as the independent variable increases.\n",
    "\n",
    "5. The maximum point of a curve is where the curve reaches its highest value, while the minimum point of a curve is where the curve reaches its lowest value.\n",
    "\n",
    "6. The formula for the slope (b) of a regression line is b = (nΣxy - ΣxΣy) / (nΣx^2 - (Σx)^2), while the formula for the y-intercept (a) is a = ȳ - b x̄, where n is the number of data points, Σxy is the sum of the products of the x and y values, Σx and Σy are the sums of the x and y values, x̄ and ȳ are the means of the x and y values.\n",
    "\n",
    "7. The OLS algorithm involves minimizing the sum of the squared differences between the predicted and actual values of the dependent variable. This is done by calculating the slope and y-intercept of the regression line, and then using them to predict the values of the dependent variable.\n",
    "\n",
    "8. The regression's standard error is a measure of the variation of the predicted values from the actual values. It is represented by a vertical line on a scatter plot that shows the distance between the predicted values and the actual values.\n",
    "\n",
    "9. Multiple linear regression is a statistical method used to model the relationship between a dependent variable and two or more independent variables. It is represented by a regression line that best fits the data points on a scatter plot.\n",
    "\n",
    "10. The regression analysis assumptions include linearity, homoscedasticity, normality, and independence. The BLUE (Best Linear Unbiased Estimator) principle states that the estimates obtained from a regression model should be unbiased, have the minimum variance, and be linear.\n",
    "\n",
    "11. Two major issues with regression analysis are multicollinearity and heteroscedasticity. Multicollinearity occurs when two or more independent variables are highly correlated, which can lead to unreliable coefficient estimates. Heteroscedasticity occurs when the variance of the errors is not constant across all levels of the independent variable.\n",
    "\n",
    "12. The linear regression model's accuracy can be improved by adding more independent variables, transforming the dependent and/or independent variables to better fit a linear model, removing outliers, or using a different model altogether.\n",
    "\n",
    "13. Polynomial regression is a statistical method used to model the relationship between a dependent variable and an independent variable by fitting a polynomial function to the data points on a scatter plot.\n",
    "\n",
    "14. Logistic regression is a statistical method used to model the relationship between a binary dependent variable and one or more independent variables. It is represented by a logistic function that maps the probability of the dependent variable to a value between 0 and 1.\n",
    "\n",
    "15. The logistic regression assumptions include linearity, independence, and a binary dependent variable. The BLUE principle applies to"
   ]
  },
  {
   "cell_type": "markdown",
   "id": "4d1877d4",
   "metadata": {},
   "source": [
    "16.Maximum likelihood estimation (MLE) is a statistical method used to estimate the parameters of a probability distribution, given a set of observed data. MLE is widely used in machine learning and statistical modeling for various applications.\n",
    "\n",
    "Here are the steps involved in MLE:\n",
    "\n",
    "1. Define the probability distribution: The first step is to define the probability distribution that best describes the observed data. The distribution is typically defined by a set of parameters, such as the mean and variance in a normal distribution or the rate parameter in an exponential distribution.\n",
    "\n",
    "2. Define the likelihood function: The likelihood function is a function of the parameters and the observed data. It measures the probability of observing the data given a set of parameter values. For example, in a normal distribution, the likelihood function measures the probability of observing the data given the mean and variance.\n",
    "\n",
    "3. Maximize the likelihood function: The next step is to find the set of parameter values that maximize the likelihood function. This is done using numerical optimization techniques such as gradient descent, Newton's method, or the EM algorithm. The optimal parameter values are the maximum likelihood estimates.\n",
    "\n",
    "4. Evaluate the goodness of fit: After obtaining the maximum likelihood estimates, it is important to evaluate the goodness of fit of the model to the data. This can be done using various techniques such as hypothesis testing, model selection criteria, and visual inspection of residuals.\n",
    "\n",
    "MLE is a powerful method for estimating parameters in complex statistical models. It is widely used in machine learning for applications such as regression, classification, clustering, and deep learning. However, MLE has limitations, such as sensitivity to outliers, model misspecification, and the curse of dimensionality. These limitations can be addressed by using robust estimators, regularization techniques, and dimensionality reduction methods."
   ]
  },
  {
   "cell_type": "code",
   "execution_count": null,
   "id": "2289bcc2",
   "metadata": {},
   "outputs": [],
   "source": []
  }
 ],
 "metadata": {
  "kernelspec": {
   "display_name": "Python 3 (ipykernel)",
   "language": "python",
   "name": "python3"
  },
  "language_info": {
   "codemirror_mode": {
    "name": "ipython",
    "version": 3
   },
   "file_extension": ".py",
   "mimetype": "text/x-python",
   "name": "python",
   "nbconvert_exporter": "python",
   "pygments_lexer": "ipython3",
   "version": "3.8.16"
  }
 },
 "nbformat": 4,
 "nbformat_minor": 5
}
