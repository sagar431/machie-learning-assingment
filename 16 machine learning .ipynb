{
 "cells": [
  {
   "cell_type": "markdown",
   "id": "ff16d905",
   "metadata": {},
   "source": [
    "1. In a linear equation, what is the difference between a dependent variable and an independent\n",
    "variable?\n",
    "2. What is the concept of simple linear regression? Give a specific example.\n",
    "3. In a linear regression, define the slope.\n",
    "\n",
    "4. Determine the graph&#39;s slope, where the lower point on the line is represented as (3, 2) and the\n",
    "higher point is represented as (2, 2).\n",
    "\n",
    "5. In linear regression, what are the conditions for a positive slope?\n",
    "\n",
    "6. In linear regression, what are the conditions for a negative slope?\n",
    "\n",
    "7. What is multiple linear regression and how does it work?\n",
    "\n",
    "8. In multiple linear regression, define the number of squares due to error.\n",
    "\n",
    "9. In multiple linear regression, define the number of squares due to regression.\n",
    "\n",
    "In a regression equation, what is multicollinearity?\n",
    "\n",
    "11. What is heteroskedasticity, and what does it mean?\n",
    "\n",
    "12. Describe the concept of ridge regression.\n",
    "\n",
    "13. Describe the concept of lasso regression.\n",
    "\n",
    "14. What is polynomial regression and how does it work?\n",
    "\n",
    "15. Describe the basis function.\n",
    "\n",
    "16. Describe how logistic regression works."
   ]
  },
  {
   "cell_type": "markdown",
   "id": "6acefb31",
   "metadata": {},
   "source": [
    "# answer"
   ]
  },
  {
   "cell_type": "markdown",
   "id": "15b1538a",
   "metadata": {},
   "source": [
    "1. In a linear equation, the independent variable is the variable that is being manipulated or controlled in order to observe its effect on the dependent variable. The dependent variable is the variable that is being measured and observed as the outcome or response to changes in the independent variable.\n",
    "\n",
    "2. Simple linear regression is a method used to model the linear relationship between a dependent variable and one independent variable. For example, we could use simple linear regression to examine the relationship between the number of hours studied and the exam score obtained.\n",
    "\n",
    "3. In a linear regression, the slope represents the rate of change in the dependent variable (y) for every unit of change in the independent variable (x).\n",
    "\n",
    "4. The slope of the line is undefined as the two points have the same y-coordinate and the line is a horizontal line.\n",
    "\n",
    "5. In linear regression, a positive slope occurs when the dependent variable (y) increases as the independent variable (x) increases.\n",
    "\n",
    "6. In linear regression, a negative slope occurs when the dependent variable (y) decreases as the independent variable (x) increases.\n",
    "\n",
    "7. Multiple linear regression is a method used to model the linear relationship between a dependent variable and multiple independent variables. It extends the simple linear regression model to include more than one independent variable. For example, we could use multiple linear regression to examine the relationship between a person's salary (dependent variable) and their age, education level, and years of work experience (independent variables).\n",
    "\n",
    "8. In multiple linear regression, the sum of squares due to error represents the variability in the dependent variable that cannot be explained by the independent variables included in the model.\n",
    "\n",
    "9. In multiple linear regression, the sum of squares due to regression represents the variability in the dependent variable that is explained by the independent variables included in the model.\n",
    "\n",
    "10. Multicollinearity is a phenomenon where two or more independent variables in a regression equation are highly correlated with each other, making it difficult to determine the effect of each independent variable on the dependent variable.\n",
    "\n",
    "11. Heteroskedasticity is a phenomenon where the variance of the errors in a regression model is not constant across all values of the independent variable. It means that the variability of the dependent variable is different for different values of the independent variable.\n",
    "\n",
    "12. Ridge regression is a technique used to address multicollinearity in a regression model. It adds a penalty term to the sum of squares due to regression, which shrinks the estimates of the regression coefficients towards zero.\n",
    "\n",
    "13. Lasso regression is another technique used to address multicollinearity in a regression model. It adds a penalty term to the sum of the absolute values of the regression coefficients, which can shrink some coefficients to zero and effectively remove them from the model.\n",
    "\n",
    "14. Polynomial regression is a method used to model the relationship between a dependent variable and one or more independent variables using a polynomial function. It is used when the relationship between the variables is not linear.\n",
    "\n",
    "15. Basis function is a mathematical function used in polynomial regression that transforms the independent variable into a higher-dimensional space. This allows the polynomial function to better capture the relationship between the independent variable and the dependent variable.\n",
    "\n",
    "16. Logistic regression is a type of regression analysis used to model the probability of a binary outcome (such as yes or no). It uses a logistic function to transform a linear combination of independent variables into a probability score. The logistic function produces an S-shaped curve that ranges from 0 to 1, representing the probability of the binary outcome."
   ]
  },
  {
   "cell_type": "code",
   "execution_count": null,
   "id": "e3415294",
   "metadata": {},
   "outputs": [],
   "source": []
  }
 ],
 "metadata": {
  "kernelspec": {
   "display_name": "Python 3 (ipykernel)",
   "language": "python",
   "name": "python3"
  },
  "language_info": {
   "codemirror_mode": {
    "name": "ipython",
    "version": 3
   },
   "file_extension": ".py",
   "mimetype": "text/x-python",
   "name": "python",
   "nbconvert_exporter": "python",
   "pygments_lexer": "ipython3",
   "version": "3.8.16"
  }
 },
 "nbformat": 4,
 "nbformat_minor": 5
}
