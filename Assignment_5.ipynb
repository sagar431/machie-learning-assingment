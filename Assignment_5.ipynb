{
 "cells": [
  {
   "cell_type": "markdown",
   "metadata": {},
   "source": [
    "### 1. What are the key tasks that machine learning entails? What does data pre-processing imply?"
   ]
  },
  {
   "cell_type": "markdown",
   "metadata": {},
   "source": [
    "Key tasks under machine learning are\n",
    "\n",
    "1.Defining an objective\n",
    "\n",
    "2.Collection of data\n",
    "\n",
    "3.Data preprocessing\n",
    "\n",
    "4.Choose the model\n",
    "\n",
    "5.Train model\n",
    "\n",
    "6.Evaluate using performance\n",
    "\n",
    "7.Tune the hyperparameters for best performance\n",
    "\n",
    "8.Produce results\n",
    "\n",
    "Data Pre-processing includes steps to make data ready to be used for machine learning modeling. It includes, but is not limited to data cleaning, standardizing of keywords or headers, taking care of missing values and outliers."
   ]
  },
  {
   "cell_type": "markdown",
   "metadata": {},
   "source": [
    "### 2. Describe quantitative and qualitative data in depth. Make a distinction between the two."
   ]
  },
  {
   "cell_type": "markdown",
   "metadata": {},
   "source": [
    "Quantitative data is one that is numerical in nature and has order and mathematical meaning to it. It can be of two types\n",
    "\n",
    "  1.Discrete quantitative data This type of data has values that come from a countably finite or       uncountably finite set. For example: number of planets in Milky Way galaxy. It is generally visualized using bar plots.\n",
    "\n",
    " 2.Continous quantitative data This type of data has values that come from uncountably infinite sets.   For example: heights of Indians. It is generally visualized using histograms.\n",
    "\n",
    "Qualitative data is one that can be numerical or string in nature, does not necessarily have order to it but cannot possess mathematical meaning. For example: Blood groups, Grades etc.\n",
    "\n",
    "1.Nominal qualitative data This type of data is mostly used to label data points based on other characteristics. Nominal data cannot be ordered in any way. For example: Classification of flowers into sub species based on characteristics like sepal length etc.\n",
    "\n",
    "2.Ordinal qualitative data This type of data is one that can be ordered. For example: Grades.\n",
    "\n",
    "Quantitative data is different from qualitative data as it does not have any numerical nature and do not have mathematical meaning."
   ]
  },
  {
   "cell_type": "markdown",
   "metadata": {},
   "source": [
    "### Create a basic data collection that includes some sample records. Have at least one attribute from each of the machine learning data types."
   ]
  },
  {
   "cell_type": "code",
   "execution_count": 1,
   "metadata": {},
   "outputs": [
    {
     "data": {
      "text/plain": [
       "{'names': {'Mayur, Vaibhao, Sahoo'},\n",
       " 'marks': {100, 200, 300},\n",
       " 'date': {'Feb,2020', 'Jan,2020'},\n",
       " 'grade': {'C', 'D'}}"
      ]
     },
     "execution_count": 1,
     "metadata": {},
     "output_type": "execute_result"
    }
   ],
   "source": [
    "input = {\"names\":{\"Mayur, Vaibhao, Sahoo\"},\"marks\":{100,200,300},\"date\":{\"Jan,2020\",\"Feb,2020\"},\"grade\":{\"C\",\"D\"}}\n",
    "input"
   ]
  },
  {
   "cell_type": "markdown",
   "metadata": {},
   "source": [
    "### What are the various causes of machine learning data issues? What are the ramifications?"
   ]
  },
  {
   "cell_type": "markdown",
   "metadata": {},
   "source": [
    " Machine learning data issues can arise from\n",
    "\n",
    "1.Removing outliers from data having non-gaussian distribution.\n",
    "\n",
    "2.Imputing data using numerical averages in case of non gaussian distribution.\n",
    "\n",
    "3.Low number of data points\n",
    "\n",
    "4.Data coming from a sample not representative of the population.\n",
    "\n",
    "5.Improper data entry\n",
    "\n",
    "6.Highly Collinear independent features\n",
    "\n",
    "Ramifications can be overfitting, underfitting and low performance."
   ]
  },
  {
   "cell_type": "markdown",
   "metadata": {},
   "source": [
    "### Demonstrate various approaches to categorical data exploration with appropriate examples."
   ]
  },
  {
   "cell_type": "code",
   "execution_count": 2,
   "metadata": {},
   "outputs": [
    {
     "name": "stderr",
     "output_type": "stream",
     "text": [
      "\n",
      "Bad key \"text.kerning_factor\" on line 4 in\n",
      "C:\\Users\\user\\Anaconda3\\lib\\site-packages\\matplotlib\\mpl-data\\stylelib\\_classic_test_patch.mplstyle.\n",
      "You probably need to get an updated matplotlibrc file from\n",
      "http://github.com/matplotlib/matplotlib/blob/master/matplotlibrc.template\n",
      "or from the matplotlib source distribution\n"
     ]
    },
    {
     "data": {
      "text/html": [
       "<div>\n",
       "<style scoped>\n",
       "    .dataframe tbody tr th:only-of-type {\n",
       "        vertical-align: middle;\n",
       "    }\n",
       "\n",
       "    .dataframe tbody tr th {\n",
       "        vertical-align: top;\n",
       "    }\n",
       "\n",
       "    .dataframe thead th {\n",
       "        text-align: right;\n",
       "    }\n",
       "</style>\n",
       "<table border=\"1\" class=\"dataframe\">\n",
       "  <thead>\n",
       "    <tr style=\"text-align: right;\">\n",
       "      <th></th>\n",
       "      <th>sepal.length</th>\n",
       "      <th>sepal.width</th>\n",
       "      <th>petal.length</th>\n",
       "      <th>petal.width</th>\n",
       "      <th>variety</th>\n",
       "    </tr>\n",
       "  </thead>\n",
       "  <tbody>\n",
       "    <tr>\n",
       "      <th>0</th>\n",
       "      <td>5.1</td>\n",
       "      <td>3.5</td>\n",
       "      <td>1.4</td>\n",
       "      <td>0.2</td>\n",
       "      <td>Iris-setosa</td>\n",
       "    </tr>\n",
       "    <tr>\n",
       "      <th>1</th>\n",
       "      <td>4.9</td>\n",
       "      <td>3.0</td>\n",
       "      <td>1.4</td>\n",
       "      <td>0.2</td>\n",
       "      <td>Iris-setosa</td>\n",
       "    </tr>\n",
       "    <tr>\n",
       "      <th>2</th>\n",
       "      <td>4.7</td>\n",
       "      <td>3.2</td>\n",
       "      <td>1.3</td>\n",
       "      <td>0.2</td>\n",
       "      <td>Iris-setosa</td>\n",
       "    </tr>\n",
       "    <tr>\n",
       "      <th>3</th>\n",
       "      <td>4.6</td>\n",
       "      <td>3.1</td>\n",
       "      <td>1.5</td>\n",
       "      <td>0.2</td>\n",
       "      <td>Iris-setosa</td>\n",
       "    </tr>\n",
       "    <tr>\n",
       "      <th>4</th>\n",
       "      <td>5.0</td>\n",
       "      <td>3.6</td>\n",
       "      <td>1.4</td>\n",
       "      <td>0.2</td>\n",
       "      <td>Iris-setosa</td>\n",
       "    </tr>\n",
       "  </tbody>\n",
       "</table>\n",
       "</div>"
      ],
      "text/plain": [
       "   sepal.length  sepal.width  petal.length  petal.width      variety\n",
       "0           5.1          3.5           1.4          0.2  Iris-setosa\n",
       "1           4.9          3.0           1.4          0.2  Iris-setosa\n",
       "2           4.7          3.2           1.3          0.2  Iris-setosa\n",
       "3           4.6          3.1           1.5          0.2  Iris-setosa\n",
       "4           5.0          3.6           1.4          0.2  Iris-setosa"
      ]
     },
     "execution_count": 2,
     "metadata": {},
     "output_type": "execute_result"
    }
   ],
   "source": [
    "import seaborn as sns\n",
    "import matplotlib.pyplot as plt\n",
    "import pandas as pd\n",
    "\n",
    "url = \"https://archive.ics.uci.edu/ml/machine-learning-databases/iris/iris.data\"\n",
    "\n",
    "names = ['sepal.length', 'sepal.width', 'petal.length', 'petal.width', 'variety']\n",
    "\n",
    "df = pd.read_csv(url, names=names)\n",
    "df.head()"
   ]
  },
  {
   "cell_type": "code",
   "execution_count": 3,
   "metadata": {},
   "outputs": [
    {
     "data": {
      "text/html": [
       "<div>\n",
       "<style scoped>\n",
       "    .dataframe tbody tr th:only-of-type {\n",
       "        vertical-align: middle;\n",
       "    }\n",
       "\n",
       "    .dataframe tbody tr th {\n",
       "        vertical-align: top;\n",
       "    }\n",
       "\n",
       "    .dataframe thead th {\n",
       "        text-align: right;\n",
       "    }\n",
       "</style>\n",
       "<table border=\"1\" class=\"dataframe\">\n",
       "  <thead>\n",
       "    <tr style=\"text-align: right;\">\n",
       "      <th></th>\n",
       "      <th>sepal.length</th>\n",
       "      <th>sepal.width</th>\n",
       "      <th>petal.length</th>\n",
       "      <th>petal.width</th>\n",
       "    </tr>\n",
       "  </thead>\n",
       "  <tbody>\n",
       "    <tr>\n",
       "      <th>count</th>\n",
       "      <td>150.000000</td>\n",
       "      <td>150.000000</td>\n",
       "      <td>150.000000</td>\n",
       "      <td>150.000000</td>\n",
       "    </tr>\n",
       "    <tr>\n",
       "      <th>mean</th>\n",
       "      <td>5.843333</td>\n",
       "      <td>3.054000</td>\n",
       "      <td>3.758667</td>\n",
       "      <td>1.198667</td>\n",
       "    </tr>\n",
       "    <tr>\n",
       "      <th>std</th>\n",
       "      <td>0.828066</td>\n",
       "      <td>0.433594</td>\n",
       "      <td>1.764420</td>\n",
       "      <td>0.763161</td>\n",
       "    </tr>\n",
       "    <tr>\n",
       "      <th>min</th>\n",
       "      <td>4.300000</td>\n",
       "      <td>2.000000</td>\n",
       "      <td>1.000000</td>\n",
       "      <td>0.100000</td>\n",
       "    </tr>\n",
       "    <tr>\n",
       "      <th>25%</th>\n",
       "      <td>5.100000</td>\n",
       "      <td>2.800000</td>\n",
       "      <td>1.600000</td>\n",
       "      <td>0.300000</td>\n",
       "    </tr>\n",
       "    <tr>\n",
       "      <th>50%</th>\n",
       "      <td>5.800000</td>\n",
       "      <td>3.000000</td>\n",
       "      <td>4.350000</td>\n",
       "      <td>1.300000</td>\n",
       "    </tr>\n",
       "    <tr>\n",
       "      <th>75%</th>\n",
       "      <td>6.400000</td>\n",
       "      <td>3.300000</td>\n",
       "      <td>5.100000</td>\n",
       "      <td>1.800000</td>\n",
       "    </tr>\n",
       "    <tr>\n",
       "      <th>max</th>\n",
       "      <td>7.900000</td>\n",
       "      <td>4.400000</td>\n",
       "      <td>6.900000</td>\n",
       "      <td>2.500000</td>\n",
       "    </tr>\n",
       "  </tbody>\n",
       "</table>\n",
       "</div>"
      ],
      "text/plain": [
       "       sepal.length  sepal.width  petal.length  petal.width\n",
       "count    150.000000   150.000000    150.000000   150.000000\n",
       "mean       5.843333     3.054000      3.758667     1.198667\n",
       "std        0.828066     0.433594      1.764420     0.763161\n",
       "min        4.300000     2.000000      1.000000     0.100000\n",
       "25%        5.100000     2.800000      1.600000     0.300000\n",
       "50%        5.800000     3.000000      4.350000     1.300000\n",
       "75%        6.400000     3.300000      5.100000     1.800000\n",
       "max        7.900000     4.400000      6.900000     2.500000"
      ]
     },
     "execution_count": 3,
     "metadata": {},
     "output_type": "execute_result"
    }
   ],
   "source": [
    "df.describe()"
   ]
  },
  {
   "cell_type": "code",
   "execution_count": 4,
   "metadata": {},
   "outputs": [
    {
     "data": {
      "text/html": [
       "<div>\n",
       "<style scoped>\n",
       "    .dataframe tbody tr th:only-of-type {\n",
       "        vertical-align: middle;\n",
       "    }\n",
       "\n",
       "    .dataframe tbody tr th {\n",
       "        vertical-align: top;\n",
       "    }\n",
       "\n",
       "    .dataframe thead th {\n",
       "        text-align: right;\n",
       "    }\n",
       "</style>\n",
       "<table border=\"1\" class=\"dataframe\">\n",
       "  <thead>\n",
       "    <tr style=\"text-align: right;\">\n",
       "      <th></th>\n",
       "      <th>variety</th>\n",
       "    </tr>\n",
       "  </thead>\n",
       "  <tbody>\n",
       "    <tr>\n",
       "      <th>count</th>\n",
       "      <td>150</td>\n",
       "    </tr>\n",
       "    <tr>\n",
       "      <th>unique</th>\n",
       "      <td>3</td>\n",
       "    </tr>\n",
       "    <tr>\n",
       "      <th>top</th>\n",
       "      <td>Iris-versicolor</td>\n",
       "    </tr>\n",
       "    <tr>\n",
       "      <th>freq</th>\n",
       "      <td>50</td>\n",
       "    </tr>\n",
       "  </tbody>\n",
       "</table>\n",
       "</div>"
      ],
      "text/plain": [
       "                variety\n",
       "count               150\n",
       "unique                3\n",
       "top     Iris-versicolor\n",
       "freq                 50"
      ]
     },
     "execution_count": 4,
     "metadata": {},
     "output_type": "execute_result"
    }
   ],
   "source": [
    "df.describe(include='O')"
   ]
  },
  {
   "cell_type": "code",
   "execution_count": 5,
   "metadata": {},
   "outputs": [
    {
     "data": {
      "text/plain": [
       "Text(0.5, 1.0, 'Frequency Each Plant')"
      ]
     },
     "execution_count": 5,
     "metadata": {},
     "output_type": "execute_result"
    },
    {
     "data": {
      "image/png": "[encoded data removed]",
      "text/plain": [
       "<Figure size 432x288 with 1 Axes>"
      ]
     },
     "metadata": {},
     "output_type": "display_data"
    }
   ],
   "source": [
    "a=df.groupby('variety')['variety'].count() \n",
    "sns.barplot(x=a.index, y=a.values)\n",
    "plt.title(\"Frequency Each Plant\")"
   ]
  },
  {
   "cell_type": "markdown",
   "metadata": {},
   "source": [
    "### 6. How would the learning activity be affected if certain variables have missing values? Having said that, what can be done about it?"
   ]
  },
  {
   "cell_type": "markdown",
   "metadata": {},
   "source": [
    "1.Several sklearn algorithms assume that all features are numerical and have mathematical meaning to them. If they come across missing values, the algorithm breaks and the program breaks. Generally, missing data builds up poor performance of the machine learning model. Certain algorithms like Random Forest however can handle missing data, at the expense of performance.\n",
    "\n",
    "2.Missing values can be imputed if the data has gaussian distribution. If not, median can be used for imputation. Certain values can also be filled using pandas interpolate() that calculates what missing value should be, based on the previous values but this can only work for features like ID code. Another way is to use machine learning models to learn from the data and then fill the missing value with most probable value."
   ]
  },
  {
   "cell_type": "markdown",
   "metadata": {},
   "source": [
    "### Describe the various methods for dealing with missing data values in depth."
   ]
  },
  {
   "cell_type": "markdown",
   "metadata": {},
   "source": [
    " Imputation If the data distribution is normal, then numerical averages can be used to fill missing data as most of the data would lie around the mean. If data is not normally distributed, median can be used for imputation of values as median is not affected by presence of outliers. pd.df.fillna() is used for imputations\n",
    "\n",
    "1.Removal of datapoint If there is a lot of data and the missing values are very low in numbers, then it may be better to simply remove that specific data point row. This will have little effect over performance of the machine learning model to be built. pd.df.drop() is used for this.\n",
    "\n",
    "2.Interpolate() Interpolate() of pandas library is used in cases where numerical data is following some trend. This trend calculated and values are filled based on it. This function will not work on any other scenarios.\n",
    "\n",
    "3.Build a machine learning model for filling data Machine learning models can learn from the data and then fill the missing value with most probable value. KNN models can be built for this purpose.\n",
    "\n",
    "4.Dropping column Removing an entire column which is filled with missing data might be our best bet for building a good machine learning model."
   ]
  },
  {
   "cell_type": "markdown",
   "metadata": {},
   "source": [
    "### 8.What are the various data pre-processing techniques? Explain dimensionality reduction and function selection in a few words."
   ]
  },
  {
   "cell_type": "markdown",
   "metadata": {},
   "source": [
    "Data Pre-Processing techniques:\n",
    "\n",
    "1.Data Cleaning\n",
    "2.Data Transformation\n",
    "3.Data Reduction\n",
    "Assume Function Selction as Feature Selection\n",
    "\n",
    "Dimensionality Reduction and feature selection are both methods of reducing the number of features a machine learning model would be trained on, so that effective space time complexity of algorithms can be minimized. Dimensionality Reduction is a method which relies on converting the features into a lower dimension while feature selection relies on including only those features that will contribute most to the performance of a machine learning model. Examples of Dimensionality Reduction are PCA and t-SNE. Examples of feature selection are forward feature selection and backward feature selection."
   ]
  },
  {
   "cell_type": "markdown",
   "metadata": {},
   "source": [
    "### i. What is the IQR? What criteria are used to assess it?\n",
    "\n",
    "### ii. Describe the various components of a box plot in detail? When will the lower whisker surpass the upper whisker in length? How can box plots be used to identify outliers?"
   ]
  },
  {
   "cell_type": "markdown",
   "metadata": {},
   "source": [
    "1.IQR or Inter-Quartile Range is a measure of dispersion. It is formulated as (third quartile-1st quartile). It is dependent on only 50% of the data. First quartile and third quartile are required to assess Inter Quartile Range.\n",
    "\n",
    "2.A boxplot gives us the 5 point summary which includes first quartile(median of the first 50% of the data), third quartile(median for second 50% of the data), median or 2nd quartile(exact mid point of the entire data), maximum value and minimum value. It also has two whiskers which provide us with a visual position of minimum and maximum value, below and above which lies the threshold beyond which any data point will be shown as an outlier. Outliers are declared by using formula Q1-(1.5 IQR) and Q3+(1.5 IQR). Lower whisker surpasses the upper whisker if the data is right skewed"
   ]
  },
  {
   "cell_type": "markdown",
   "metadata": {},
   "source": [
    "### 10. Make brief notes on any two of the following:\n",
    "\n",
    "### i. Data collected at regular intervals\n",
    "\n",
    "### iii. Use a cross-tab"
   ]
  },
  {
   "cell_type": "markdown",
   "metadata": {},
   "source": [
    "Solution:-\n",
    "\n",
    "1.Data collection can be in many different forms. One of the probabilistic sampling techniques used in Statistics is Stratified sampling in which data is collected at regular intervals but with a random start. It is used for its simplicity.\n",
    "\n",
    "2.Cross tabs or cross tabulation are only used to find relations between two categorical variables where one categorical variable value would be giving row data and the other variable would give column data. Several tests like the chi square test can help find relations based on the cross tab."
   ]
  },
  {
   "cell_type": "markdown",
   "metadata": {},
   "source": [
    "### 11. Make a comparison between:\n",
    "\n",
    "ii. Histogram and box plot\n",
    "\n",
    "iii. The average and median"
   ]
  },
  {
   "cell_type": "markdown",
   "metadata": {},
   "source": [
    "1.Histograms are data visualizations used for continous quantitative data. Box Plots are data visualizations used for describing any quantitative data. Histograms are used for checking the distribution type. Box Plots are used for describing data in 5 point summary and detecting outliers in data. Granularity can be changed using bins in Histograms. Box Plots do no feature any control over granularity.\n",
    "\n",
    "2.Average is a measure of numerical centrality of a distribution. Median is a measure of positional centrality of a distribution. Average can also be referred to as the value that is closest to most number of values in a data. Median can also be referred to as the value which is exactly in the middle of a distribution. Averages are affected by presence of outliers. Medians are not affected by outliers."
   ]
  },
  {
   "cell_type": "code",
   "execution_count": null,
   "metadata": {},
   "outputs": [],
   "source": []
  }
 ],
 "metadata": {
  "kernelspec": {
   "display_name": "Python 3",
   "language": "python",
   "name": "python3"
  },
  "language_info": {
   "codemirror_mode": {
    "name": "ipython",
    "version": 3
   },
   "file_extension": ".py",
   "mimetype": "text/x-python",
   "name": "python",
   "nbconvert_exporter": "python",
   "pygments_lexer": "ipython3",
   "version": "3.6.5"
  }
 },
 "nbformat": 4,
 "nbformat_minor": 2
}
