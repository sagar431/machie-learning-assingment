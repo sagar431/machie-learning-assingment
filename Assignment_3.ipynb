{
 "cells": [
  {
   "cell_type": "markdown",
   "metadata": {},
   "source": [
    "### 1.Explain the term machine learning, and how does it work? Explain two machine learning applications in the business world. What are some of the ethical concerns that machine learning applications could raise?"
   ]
  },
  {
   "cell_type": "markdown",
   "metadata": {},
   "source": [
    " Machine learning is a data analytics technique that teaches computers to do what comes naturally to humans and animals: learn from experience. Machine learning algorithms use computational methods to “learn” information directly from data without relying on a predetermined equation as a model.\n",
    "\n",
    "In its application across business problems, machine learning is also referred to as predictive analytics, and use cases include customer churn, credit card fraud, and email spam. ML tasks are learned through available data that were observed through experiences or instructions, which in turn result in better learning.\n",
    "\n",
    "But there are many ethical challenges: Lack of transparency of AI tools: AI decisions are not always intelligible to humans. AI is not neutral: AI-based decisions are susceptible to inaccuracies, discriminatory outcomes, embedded or inserted bias. Surveillance practices for data gathering and privacy of court users"
   ]
  },
  {
   "cell_type": "markdown",
   "metadata": {},
   "source": [
    "### 2. Describe the process of human learning:"
   ]
  },
  {
   "cell_type": "markdown",
   "metadata": {},
   "source": [
    "i. Under the supervision of experts\n",
    "\n",
    "ii. With the assistance of experts in an indirect manner\n",
    "\n",
    "iii. Self-education"
   ]
  },
  {
   "cell_type": "markdown",
   "metadata": {},
   "source": [
    "### 3. Provide a few examples of various types of machine learning."
   ]
  },
  {
   "cell_type": "markdown",
   "metadata": {},
   "source": [
    "These are three types of machine learning: supervised learning, unsupervised learning, and reinforcement learning"
   ]
  },
  {
   "cell_type": "markdown",
   "metadata": {},
   "source": [
    "### 4.. Examine the various forms of machine learning."
   ]
  },
  {
   "cell_type": "markdown",
   "metadata": {},
   "source": [
    "These are three types of machine learning: supervised learning, unsupervised learning, and reinforcement learning"
   ]
  },
  {
   "cell_type": "markdown",
   "metadata": {},
   "source": [
    "### 5.Can you explain what a well-posed learning problem is? Explain the main characteristics that must be present to identify a learning problem properly."
   ]
  },
  {
   "cell_type": "markdown",
   "metadata": {},
   "source": [
    "A computer program is said to learn from experience E in context to some task T and some performance measure P, if its performance on T, as was measured by P, upgrades with experience E. Any problem can be segregated as well-posed learning problem if it has three traits"
   ]
  },
  {
   "cell_type": "markdown",
   "metadata": {},
   "source": [
    "### 6.Is machine learning capable of solving all problems? Give a detailed explanation of your answer."
   ]
  },
  {
   "cell_type": "raw",
   "metadata": {},
   "source": [
    "However, it is important to understand that machine learning is not the answer to all problems. Given the usefulness of machine learning, it can be hard to accept that sometimes it is not the best solution to a problem. There are times when machine learning is the right solution, and times when it is the wrong solution.\n",
    "\n",
    "1.Ethics : The idea of trusting data and algorithms more than our own judgment has its pros and cons. Obviously, we benefit from these algorithms, otherwise, we wouldn’t be using them in the first place. These algorithms allow us to automate processes by making informed judgments using available data. Sometimes, however, this means replacing someone’s job with an algorithm, which comes with ethical ramifications.\n",
    "\n",
    "2.Data : Many machine learning algorithms require large amounts of data before they begin to give useful results. A good example of this is a neural network. Neural networks are data-eating machines that require copious amounts of training data. The larger the architecture, the more data is needed to produce viable results. Reusing data is a bad idea, and data augmentation is useful to some extent, but having more data is always the preferred solution.\n",
    "\n",
    "3.Misapplication : Applying machine learning on deterministic systems will succeed, but the algorithm which not be learning the relationship between the two variables, and will not know when it is violating physical laws. We simply gave some inputs and outputs to the system and told it to learn the relationship like someone translating word for word out of a dictionary, the algorithm will only appear to have a facile grasp of the underlying physics."
   ]
  },
  {
   "cell_type": "markdown",
   "metadata": {},
   "source": [
    "### 7. What are the various methods and technologies for solving machine learning problems? Any two of them should be defined in detail."
   ]
  },
  {
   "cell_type": "markdown",
   "metadata": {},
   "source": [
    "There are four types of machine learning algorithms: supervised, semi-supervised, unsupervised and reinforcement.\n",
    "\n",
    "1.Supervised learning In supervised learning, the machine is taught by example. The operator provides the machine learning algorithm with a known dataset that includes desired inputs and outputs, and the algorithm must find a method to determine how to arrive at those inputs and outputs. While the operator knows the correct answers to the problem, the algorithm identifies patterns in data, learns from observations and makes predictions. The algorithm makes predictions and is corrected by the operator – and this process continues until the algorithm achieves a high level of accuracy/performance.\n",
    "Under the umbrella of supervised learning fall: Classification, Regression and Forecasting.\n",
    "\n",
    "a. Classification: In classification tasks, the machine learning program must draw a conclusion from observed values and determine to what category new observations belong. For example, when filtering emails as ‘spam’ or ‘not spam’, the program must look at existing observational data and filter the emails accordingly.\n",
    "\n",
    "b. Regression: In regression tasks, the machine learning program must estimate – and understand – the relationships among variables. Regression analysis focuses on one dependent variable and a series of other changing variables – making it particularly useful for prediction and forecasting.\n",
    "\n",
    "c. Forecasting: Forecasting is the process of making predictions about the future based on the past and present data, and is commonly used to analyse trends.\n",
    "\n",
    "2.Unsupervised learning Here, the machine learning algorithm studies data to identify patterns. There is no answer key or human operator to provide instruction. Instead, the machine determines the correlations and relationships by analysing available data. In an unsupervised learning process, the machine learning algorithm is left to interpret large data sets and address that data accordingly. The algorithm tries to organise that data in some way to describe its structure. This might mean grouping the data into clusters or arranging it in a way that looks more organised. As it assesses more data, its ability to make decisions on that data gradually improves and becomes more refined.\n",
    "Under the umbrella of unsupervised learning, fall:\n",
    "\n",
    "a. Clustering: Clustering involves grouping sets of similar data (based on defined criteria). It’s useful for segmenting data into several groups and performing analysis on each data set to find patterns. Dimension reduction: Dimension reduction reduces the number of variables being considered to find the exact information required."
   ]
  },
  {
   "cell_type": "markdown",
   "metadata": {},
   "source": [
    "### 8.Can you explain the various forms of supervised learning? Explain each one with an example application."
   ]
  },
  {
   "cell_type": "markdown",
   "metadata": {},
   "source": [
    "1.Supervised learning In supervised learning, the machine is taught by example. The operator provides the machine learning algorithm with a known dataset that includes desired inputs and outputs, and the algorithm must find a method to determine how to arrive at those inputs and outputs. While the operator knows the correct answers to the problem, the algorithm identifies patterns in data, learns from observations and makes predictions. The algorithm makes predictions and is corrected by the operator – and this process continues until the algorithm achieves a high level of accuracy/performance.\n",
    "\n",
    "Under the umbrella of supervised learning fall: Classification, Regression and Forecasting.\n",
    "\n",
    "a. Classification: In classification tasks, the machine learning program must draw a conclusion from observed values and determine to what category new observations belong. For example, when filtering emails as ‘spam’ or ‘not spam’, the program must look at existing observational data and filter the emails accordingly.\n",
    "\n",
    "b. Regression: In regression tasks, the machine learning program must estimate – and understand – the relationships among variables. Regression analysis focuses on one dependent variable and a series of other changing variables – making it particularly useful for prediction and forecasting.\n",
    "\n",
    "c. Forecasting: Forecasting is the process of making predictions about the future based on the past and present data, and is commonly used to analyse trends.\n",
    "\n",
    "9. What is the difference between supervised and unsupervised learning? With a sample application in each region, explain the differences.\n",
    "\n"
   ]
  },
  {
   "cell_type": "markdown",
   "metadata": {},
   "source": [
    "### 9.What is the difference between supervised and unsupervised learning? With a sample application in each region, explain the differences."
   ]
  },
  {
   "cell_type": "markdown",
   "metadata": {},
   "source": [
    "Supervised Learning\n",
    "\n",
    "1.Supervised learning algorithms are trained using labeled data.\n",
    "\n",
    "2.Supervised learning model takes direct feedback to check if it is predicting correct output or not.\n",
    "\n",
    "3.Supervised learning model predicts the output.\n",
    "\n",
    "4.In supervised learning, input data is provided to the model along with the output.\n",
    "\n",
    "5.The goal of supervised learning is to train the model so that it can predict the output when it is given new data.\n",
    "\n",
    "6.Supervised learning can be categorized in Classification and Regression problems.\n",
    "\n",
    "Unsupervised Learning\n",
    "\n",
    "1.Unsupervised learning algorithms are trained using unlabeled data.\n",
    "\n",
    "2.Unsupervised learning model does not take any feedback.\n",
    "\n",
    "3.Unsupervised learning model finds the hidden patterns in data.\n",
    "\n",
    "4.In unsupervised learning, only input data is provided to the model.\n",
    "\n",
    "5.The goal of unsupervised learning is to find the hidden patterns and useful insights from the unknown dataset.\n",
    "\n",
    "6.Unsupervised Learning can be classified in Clustering and Associations problems."
   ]
  },
  {
   "cell_type": "markdown",
   "metadata": {},
   "source": [
    "### Describe the machine learning process in depth. Make brief notes on any two of the following:\n",
    "\n",
    "i. MATLAB is one of the most widely used programming languages.\n",
    "\n",
    "ii. Deep learning applications in healthcare\n",
    "\n",
    "iii. Study of the market basket\n",
    "\n",
    "iv. Linear regression (simple)\n"
   ]
  },
  {
   "cell_type": "markdown",
   "metadata": {},
   "source": [
    "\n",
    "ii. Deep learning applications in healthcare\n",
    "\n",
    "Deep learning is assisting medical professionals and researchers to discover the hidden opportunities in data and to serve the healthcare industry better. Deep learning in healthcare provides doctors the analysis of any disease accurately and helps them treat them better, thus resulting in better medical decisions.\n",
    "\n",
    "Drug discovery Deep learning in healthcare helps in discovery of medicines and their development. The technology analyzes the patient's medical history and provides the best treatment for them. Moreover, this technology is gaining insights from patient symptoms and tests.\n",
    "Medical imaging Medical imaging techniques such as MRI scans, CT scans, ECG, are used to diagnose dreadful diseases such as heart disease, cancer, brain tumor. Hence, deep learning helps doctors to analyze the disease better and provide patients with the best treatment.\n",
    "Insurance fraud Deep learning is used to analyze the medical insurance fraud claims. With predictive analytics, it can predict fraud claims that are likely to happen in the future. Moreover, deep learning helps insurance industry to send out discounts and offers to their target patients.\n",
    "Alzheimer's disease Alzheimer is one of the significant challenges that medical industry faces. Deep learning technique is used to detect Alzheimer’s disease at an early stage.\n",
    "Genome Deep learning technique is used to understand a genome and help patients get an idea about disease that might affect them. Deep learning has a promising future in genomics, and also insurance industry. Entilic says that they use deep learning technique to make doctors faster and more accurate. Cellscope uses deep learning technique and helps parents to monitor the health of their children through a smart device in real time, thus minimizing frequent visits to the doctor. Deep learning in healthcare can provide doctors and patients with astonishing applications, which will help doctors to make better medical treatments.\n",
    "\n",
    "iv. Linear regression (simple)\n",
    "\n",
    "Arranged in or extending along a straight or nearly straight line. Linear suggests that the relationship between dependent and independent variable can be expressed in a straight line. Linear regression models are not perfect. It tries to approximate the relationship between dependent and independent variables in a straight line. Approximation leads to errors. Some errors can be reduced. Some errors are inherent in the nature of the problem. These errors cannot be eliminated. They are called as an irreducible error, the noise term in the true relationship that cannot fundamentally be reduced by any model.\n",
    "\n",
    "y = mx + c\n",
    "\n",
    "Linear regression is nothing but a manifestation of this simple equation.\n",
    "\n",
    "y is the dependent variable i.e. the variable that needs to be estimated and predicted.\n",
    "\n",
    "x is the independent variable i.e. the variable that is controllable. It is the input.\n",
    "\n",
    "m is the slope. It determines what will be the angle of the line. It is the parameter denoted as β.\n",
    "\n",
    "c is the intercept. A constant that determines the value of y when x is 0.\n",
    "\n"
   ]
  },
  {
   "cell_type": "code",
   "execution_count": null,
   "metadata": {},
   "outputs": [],
   "source": []
  }
 ],
 "metadata": {
  "kernelspec": {
   "display_name": "Python 3",
   "language": "python",
   "name": "python3"
  },
  "language_info": {
   "codemirror_mode": {
    "name": "ipython",
    "version": 3
   },
   "file_extension": ".py",
   "mimetype": "text/x-python",
   "name": "python",
   "nbconvert_exporter": "python",
   "pygments_lexer": "ipython3",
   "version": "3.6.5"
  }
 },
 "nbformat": 4,
 "nbformat_minor": 2
}
